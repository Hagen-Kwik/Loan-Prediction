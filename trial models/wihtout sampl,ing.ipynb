{
  "cells": [
    {
      "cell_type": "code",
      "execution_count": 7,
      "metadata": {
        "id": "IAiGGmMUYlWG"
      },
      "outputs": [],
      "source": [
        "# library for mathematical functions and data preprocessing such as table, etc\n",
        "import pandas as pd\n",
        "import numpy as np\n",
        "from scipy import stats\n",
        "from scipy.stats import skew\n",
        "\n",
        "# Library for visualizing data\n",
        "import matplotlib.pyplot as plt\n",
        "import seaborn as sns\n",
        "\n",
        "# Library for machine learning functions/algorithms\n",
        "from sklearn.model_selection import train_test_split\n",
        "from sklearn.metrics import confusion_matrix, accuracy_score,  precision_score, recall_score, f1_score, roc_auc_score, roc_curve\n",
        "from sklearn.preprocessing import LabelEncoder\n",
        "from sklearn.metrics import classification_report\n",
        "from sklearn.ensemble import RandomForestClassifier\n",
        "from imblearn.under_sampling import RandomUnderSampler\n"
      ]
    },
    {
      "cell_type": "code",
      "execution_count": 8,
      "metadata": {},
      "outputs": [
        {
          "data": {
            "text/html": [
              "<div>\n",
              "<style scoped>\n",
              "    .dataframe tbody tr th:only-of-type {\n",
              "        vertical-align: middle;\n",
              "    }\n",
              "\n",
              "    .dataframe tbody tr th {\n",
              "        vertical-align: top;\n",
              "    }\n",
              "\n",
              "    .dataframe thead th {\n",
              "        text-align: right;\n",
              "    }\n",
              "</style>\n",
              "<table border=\"1\" class=\"dataframe\">\n",
              "  <thead>\n",
              "    <tr style=\"text-align: right;\">\n",
              "      <th></th>\n",
              "      <th>loan_amnt</th>\n",
              "      <th>term</th>\n",
              "      <th>int_rate</th>\n",
              "      <th>installment</th>\n",
              "      <th>grade</th>\n",
              "      <th>sub_grade</th>\n",
              "      <th>emp_title</th>\n",
              "      <th>emp_length</th>\n",
              "      <th>home_ownership</th>\n",
              "      <th>annual_inc</th>\n",
              "      <th>...</th>\n",
              "      <th>open_acc</th>\n",
              "      <th>pub_rec</th>\n",
              "      <th>revol_bal</th>\n",
              "      <th>revol_util</th>\n",
              "      <th>total_acc</th>\n",
              "      <th>initial_list_status</th>\n",
              "      <th>application_type</th>\n",
              "      <th>mort_acc</th>\n",
              "      <th>pub_rec_bankruptcies</th>\n",
              "      <th>address</th>\n",
              "    </tr>\n",
              "  </thead>\n",
              "  <tbody>\n",
              "    <tr>\n",
              "      <th>0</th>\n",
              "      <td>10000.0</td>\n",
              "      <td>36 months</td>\n",
              "      <td>11.44</td>\n",
              "      <td>329.48</td>\n",
              "      <td>B</td>\n",
              "      <td>B4</td>\n",
              "      <td>Marketing</td>\n",
              "      <td>10+ years</td>\n",
              "      <td>RENT</td>\n",
              "      <td>117000.0</td>\n",
              "      <td>...</td>\n",
              "      <td>16.0</td>\n",
              "      <td>0.0</td>\n",
              "      <td>36369.0</td>\n",
              "      <td>41.8</td>\n",
              "      <td>25.0</td>\n",
              "      <td>w</td>\n",
              "      <td>INDIVIDUAL</td>\n",
              "      <td>0.0</td>\n",
              "      <td>0.0</td>\n",
              "      <td>0174 Michelle Gateway\\nMendozaberg, OK 22690</td>\n",
              "    </tr>\n",
              "    <tr>\n",
              "      <th>1</th>\n",
              "      <td>8000.0</td>\n",
              "      <td>36 months</td>\n",
              "      <td>11.99</td>\n",
              "      <td>265.68</td>\n",
              "      <td>B</td>\n",
              "      <td>B5</td>\n",
              "      <td>Credit analyst</td>\n",
              "      <td>4 years</td>\n",
              "      <td>MORTGAGE</td>\n",
              "      <td>65000.0</td>\n",
              "      <td>...</td>\n",
              "      <td>17.0</td>\n",
              "      <td>0.0</td>\n",
              "      <td>20131.0</td>\n",
              "      <td>53.3</td>\n",
              "      <td>27.0</td>\n",
              "      <td>f</td>\n",
              "      <td>INDIVIDUAL</td>\n",
              "      <td>3.0</td>\n",
              "      <td>0.0</td>\n",
              "      <td>1076 Carney Fort Apt. 347\\nLoganmouth, SD 05113</td>\n",
              "    </tr>\n",
              "    <tr>\n",
              "      <th>2</th>\n",
              "      <td>15600.0</td>\n",
              "      <td>36 months</td>\n",
              "      <td>10.49</td>\n",
              "      <td>506.97</td>\n",
              "      <td>B</td>\n",
              "      <td>B3</td>\n",
              "      <td>Statistician</td>\n",
              "      <td>&lt; 1 year</td>\n",
              "      <td>RENT</td>\n",
              "      <td>43057.0</td>\n",
              "      <td>...</td>\n",
              "      <td>13.0</td>\n",
              "      <td>0.0</td>\n",
              "      <td>11987.0</td>\n",
              "      <td>92.2</td>\n",
              "      <td>26.0</td>\n",
              "      <td>f</td>\n",
              "      <td>INDIVIDUAL</td>\n",
              "      <td>0.0</td>\n",
              "      <td>0.0</td>\n",
              "      <td>87025 Mark Dale Apt. 269\\nNew Sabrina, WV 05113</td>\n",
              "    </tr>\n",
              "    <tr>\n",
              "      <th>3</th>\n",
              "      <td>7200.0</td>\n",
              "      <td>36 months</td>\n",
              "      <td>6.49</td>\n",
              "      <td>220.65</td>\n",
              "      <td>A</td>\n",
              "      <td>A2</td>\n",
              "      <td>Client Advocate</td>\n",
              "      <td>6 years</td>\n",
              "      <td>RENT</td>\n",
              "      <td>54000.0</td>\n",
              "      <td>...</td>\n",
              "      <td>6.0</td>\n",
              "      <td>0.0</td>\n",
              "      <td>5472.0</td>\n",
              "      <td>21.5</td>\n",
              "      <td>13.0</td>\n",
              "      <td>f</td>\n",
              "      <td>INDIVIDUAL</td>\n",
              "      <td>0.0</td>\n",
              "      <td>0.0</td>\n",
              "      <td>823 Reid Ford\\nDelacruzside, MA 00813</td>\n",
              "    </tr>\n",
              "    <tr>\n",
              "      <th>4</th>\n",
              "      <td>24375.0</td>\n",
              "      <td>60 months</td>\n",
              "      <td>17.27</td>\n",
              "      <td>609.33</td>\n",
              "      <td>C</td>\n",
              "      <td>C5</td>\n",
              "      <td>Destiny Management Inc.</td>\n",
              "      <td>9 years</td>\n",
              "      <td>MORTGAGE</td>\n",
              "      <td>55000.0</td>\n",
              "      <td>...</td>\n",
              "      <td>13.0</td>\n",
              "      <td>0.0</td>\n",
              "      <td>24584.0</td>\n",
              "      <td>69.8</td>\n",
              "      <td>43.0</td>\n",
              "      <td>f</td>\n",
              "      <td>INDIVIDUAL</td>\n",
              "      <td>1.0</td>\n",
              "      <td>0.0</td>\n",
              "      <td>679 Luna Roads\\nGreggshire, VA 11650</td>\n",
              "    </tr>\n",
              "  </tbody>\n",
              "</table>\n",
              "<p>5 rows × 27 columns</p>\n",
              "</div>"
            ],
            "text/plain": [
              "   loan_amnt        term  int_rate  installment grade sub_grade  \\\n",
              "0    10000.0   36 months     11.44       329.48     B        B4   \n",
              "1     8000.0   36 months     11.99       265.68     B        B5   \n",
              "2    15600.0   36 months     10.49       506.97     B        B3   \n",
              "3     7200.0   36 months      6.49       220.65     A        A2   \n",
              "4    24375.0   60 months     17.27       609.33     C        C5   \n",
              "\n",
              "                 emp_title emp_length home_ownership  annual_inc  ...  \\\n",
              "0                Marketing  10+ years           RENT    117000.0  ...   \n",
              "1          Credit analyst     4 years       MORTGAGE     65000.0  ...   \n",
              "2             Statistician   < 1 year           RENT     43057.0  ...   \n",
              "3          Client Advocate    6 years           RENT     54000.0  ...   \n",
              "4  Destiny Management Inc.    9 years       MORTGAGE     55000.0  ...   \n",
              "\n",
              "  open_acc pub_rec revol_bal revol_util total_acc  initial_list_status  \\\n",
              "0     16.0     0.0   36369.0       41.8      25.0                    w   \n",
              "1     17.0     0.0   20131.0       53.3      27.0                    f   \n",
              "2     13.0     0.0   11987.0       92.2      26.0                    f   \n",
              "3      6.0     0.0    5472.0       21.5      13.0                    f   \n",
              "4     13.0     0.0   24584.0       69.8      43.0                    f   \n",
              "\n",
              "  application_type  mort_acc  pub_rec_bankruptcies  \\\n",
              "0       INDIVIDUAL       0.0                   0.0   \n",
              "1       INDIVIDUAL       3.0                   0.0   \n",
              "2       INDIVIDUAL       0.0                   0.0   \n",
              "3       INDIVIDUAL       0.0                   0.0   \n",
              "4       INDIVIDUAL       1.0                   0.0   \n",
              "\n",
              "                                           address  \n",
              "0     0174 Michelle Gateway\\nMendozaberg, OK 22690  \n",
              "1  1076 Carney Fort Apt. 347\\nLoganmouth, SD 05113  \n",
              "2  87025 Mark Dale Apt. 269\\nNew Sabrina, WV 05113  \n",
              "3            823 Reid Ford\\nDelacruzside, MA 00813  \n",
              "4             679 Luna Roads\\nGreggshire, VA 11650  \n",
              "\n",
              "[5 rows x 27 columns]"
            ]
          },
          "execution_count": 8,
          "metadata": {},
          "output_type": "execute_result"
        }
      ],
      "source": [
        "# data itself\n",
        "url = 'lending_club_loan_two.csv'\n",
        "# description of each column\n",
        "url_info = 'lending_club_info.csv'\n",
        "df_before = pd.read_csv(url)\n",
        "df_info = pd.read_csv(url_info)\n",
        "df_before.head()"
      ]
    },
    {
      "cell_type": "code",
      "execution_count": 9,
      "metadata": {},
      "outputs": [],
      "source": [
        "# Create a new DataFrame for 'issue_d'\n",
        "df_before_issue = df_before['issue_d'].str.split('-', expand=True)\n",
        "df_before_issue.columns = ['issue_month', 'issue_year']\n",
        "\n",
        "# Create a new DataFrame for 'earliest_cr_line'\n",
        "df_before_cr_line = df_before['earliest_cr_line'].str.split('-', expand=True)\n",
        "df_before_cr_line.columns = ['cr_line_month', 'cr_line_year']\n",
        "\n",
        "# Concatenate the new DataFrames with the original DataFrame\n",
        "df_before = pd.concat([df_before, df_before_issue, df_before_cr_line], axis=1)\n",
        "# Reason:\n",
        "# These features lack direct relevance to a person's ability to secure a loan. \n",
        "# grade and subgrade, summarizes the loan status, can be substituted with existing data like interest rates and annual income\n",
        "\n",
        "columns_to_drop = ['emp_title', 'address', 'title', 'earliest_cr_line', 'issue_d', 'grade', 'sub_grade', 'purpose','initial_list_status']\n",
        "df_before = df_before.drop(columns=columns_to_drop)"
      ]
    },
    {
      "cell_type": "code",
      "execution_count": 10,
      "metadata": {},
      "outputs": [],
      "source": [
        "# label encoder and fit_transform is a function that changes/remap string into number based on alphabetical order\n",
        "le = LabelEncoder() \n",
        "df_before['term'] = le.fit_transform(df_before['term'])\n",
        "# 36 months = 0,  60 months = 1\n",
        "\n",
        "df_before['emp_length'] = le.fit_transform(df_before['emp_length'])\n",
        "# '1 year' = 0, '10+ years' = 1, '2 years' = 2, '3 years' = 3, '4 years' = 4, '5 years' = 5,   \n",
        "# '6 years' = 6, '7 years' = 7, '8 years' = 8,  '9 years' = 9, '< 1 year' = 10\n",
        "\n",
        "df_before['home_ownership'] = le.fit_transform(df_before['home_ownership'])\n",
        "# 'ANY' = 0, 'MORTGAGE' = 1, 'NONE' = 2, 'OTHER' = 3, 'OWN' = 4, 'RENT' = 5\n",
        "\n",
        "df_before['verification_status'] = le.fit_transform(df_before['verification_status'])\n",
        "# 'Not Verified' = 0, 'Source Verified' = 1, 'Verified' = 2\n",
        "\n",
        "df_before['loan_status'] = le.fit_transform(df_before['loan_status'])\n",
        "# 'Charged Off' = 0, 'Fully Paid' = 1 \n",
        "\n",
        "df_before['application_type'] = le.fit_transform(df_before['application_type'])\n",
        "# 'DIRECT_PAY' = 0, 'INDIVIDUAL' = 1, 'JOINT' = 2\n",
        "\n",
        "df_before['cr_line_month'] = le.fit_transform(df_before['cr_line_month'])\n",
        "df_before['issue_month'] = le.fit_transform(df_before['issue_month'])\n",
        "# df_before['initial_list_status'] = le.fit_transform(df_before['initial_list_status'])"
      ]
    },
    {
      "cell_type": "code",
      "execution_count": 11,
      "metadata": {},
      "outputs": [],
      "source": [
        "df_before['emp_length'].fillna(df_before['emp_length'].median(), inplace=True)\n",
        "df_before['pub_rec_bankruptcies'].fillna(df_before['pub_rec_bankruptcies'].median(), inplace=True)\n",
        "df_before['mort_acc'].fillna(df_before['mort_acc'].median(), inplace=True)\n",
        "df_before['revol_util'].fillna(df_before['revol_util'].mean(), inplace=True)"
      ]
    },
    {
      "cell_type": "code",
      "execution_count": 12,
      "metadata": {},
      "outputs": [
        {
          "name": "stdout",
          "output_type": "stream",
          "text": [
            "Outlier information:\n",
            "- loan_amnt: 4089 outliers (1.03%)\n",
            "- int_rate: 7823 outliers (1.98%)\n",
            "- installment: 7916 outliers (2.00%)\n",
            "- annual_inc: 7237 outliers (1.83%)\n",
            "- dti: 7905 outliers (2.00%)\n",
            "- open_acc: 5372 outliers (1.36%)\n",
            "- pub_rec: 2543 outliers (0.64%)\n",
            "- revol_bal: 7918 outliers (2.00%)\n",
            "- total_acc: 7553 outliers (1.91%)\n"
          ]
        }
      ],
      "source": [
        "z_score_vars = ['loan_amnt', 'int_rate', 'installment', 'annual_inc', 'dti', 'open_acc', 'pub_rec', 'revol_bal', 'total_acc']\n",
        "\n",
        "no_outlier = df_before.copy()\n",
        "\n",
        "# Store outlier counts and percentages for each column\n",
        "outlier_info = {}\n",
        "\n",
        "for col in z_score_vars:\n",
        "    # since our dataset is skewed we use the 99 percentile formula to detect and delete outliers, only identifying extreme datas\n",
        "    lower_limit = df_before[col].quantile(0.01)\n",
        "    upper_limit = df_before[col].quantile(0.99)\n",
        "\n",
        "    # Count outliers before clipping\n",
        "    outlier_count = ((df_before[col] < lower_limit) | (df_before[col] > upper_limit)).sum()\n",
        "    total_count = len(df_before[col])\n",
        "    outlier_percentage = outlier_count / total_count * 100\n",
        "\n",
        "    # Store outlier information for the column\n",
        "    outlier_info[col] = {'count': outlier_count, 'percentage': outlier_percentage}\n",
        "\n",
        "# Print outlier information for each column\n",
        "print(\"Outlier information:\")\n",
        "for col, info in outlier_info.items():\n",
        "    print(f\"- {col}: {info['count']} outliers ({info['percentage']:.2f}%)\")\n",
        "\n",
        "# Drop rows with outliers\n",
        "for col in z_score_vars:\n",
        "    lower_limit = df_before[col].quantile(0.01)\n",
        "    upper_limit = df_before[col].quantile(0.99)\n",
        "    no_outlier = no_outlier[(no_outlier[col] >= lower_limit) & (no_outlier[col] <= upper_limit)]"
      ]
    },
    {
      "cell_type": "code",
      "execution_count": 13,
      "metadata": {},
      "outputs": [],
      "source": [
        "#  SPLIT\n",
        "target_column = 'loan_status'\n",
        "feature_columns = no_outlier.columns[no_outlier.columns != target_column]\n",
        "\n",
        "X = no_outlier[feature_columns]\n",
        "y = no_outlier[target_column]"
      ]
    },
    {
      "cell_type": "code",
      "execution_count": 14,
      "metadata": {},
      "outputs": [],
      "source": [
        "# use the pareto priuncple \n",
        "# split 80 train 10 validate 10 test\n",
        "X_train, X_test, y_train, y_test = train_test_split(X, y, test_size=0.2, random_state=0)"
      ]
    },
    {
      "cell_type": "code",
      "execution_count": 15,
      "metadata": {},
      "outputs": [
        {
          "name": "stdout",
          "output_type": "stream",
          "text": [
            "loan_status\n",
            "1    225416\n",
            "0     54117\n",
            "Name: count, dtype: int64\n"
          ]
        }
      ],
      "source": [
        "data_counts = y_train.value_counts()\n",
        "print(data_counts)"
      ]
    },
    {
      "cell_type": "code",
      "execution_count": 17,
      "metadata": {},
      "outputs": [
        {
          "name": "stdout",
          "output_type": "stream",
          "text": [
            "Test Accuracy: 0.8059641691946654\n"
          ]
        }
      ],
      "source": [
        "# Hyper Paramaters:\n",
        "# n estimator (value to be determined by using a for loop while checking  accuracy score)\n",
        "# bootstrap value true (to validate test result by using selecting random data)\n",
        "# criterion value gini (Computational Efficiency as we have a large dataset and is less sensitive to outliers)\n",
        "# max depth value none( to use all variables as it is currently not overfitting)\n",
        "# max features value all/auto (use all to diversify tree, create more robust)\n",
        "\n",
        "clf = RandomForestClassifier(n_estimators=83, bootstrap=True, criterion='gini', max_depth=None,  random_state=0)\n",
        "\n",
        "# Train the classifier on the training set\n",
        "clf.fit(X_train, y_train)\n",
        "\n",
        "# Make predictions on the test set\n",
        "y_pred_test = clf.predict(X_test)\n",
        "\n",
        "# Evaluate the accuracy on the test set\n",
        "accuracy_test = accuracy_score(y_test, y_pred_test)\n",
        "print(f'Test Accuracy: {accuracy_test}')\n"
      ]
    },
    {
      "cell_type": "code",
      "execution_count": 18,
      "metadata": {},
      "outputs": [
        {
          "name": "stdout",
          "output_type": "stream",
          "text": [
            "Confusion Matrix\n",
            " [[ 1049 12590]\n",
            " [  970 55275]]\n"
          ]
        }
      ],
      "source": [
        "cm = confusion_matrix(y_test, y_pred_test)\n",
        "print(\"Confusion Matrix\\n\", cm)"
      ]
    },
    {
      "cell_type": "code",
      "execution_count": 19,
      "metadata": {},
      "outputs": [
        {
          "name": "stdout",
          "output_type": "stream",
          "text": [
            "              precision    recall  f1-score   support\n",
            "\n",
            " Charged Off       0.52      0.08      0.13     13639\n",
            "  Fully Paid       0.81      0.98      0.89     56245\n",
            "\n",
            "    accuracy                           0.81     69884\n",
            "   macro avg       0.67      0.53      0.51     69884\n",
            "weighted avg       0.76      0.81      0.74     69884\n",
            "\n"
          ]
        }
      ],
      "source": [
        "target_names = ['Charged Off', 'Fully Paid']\n",
        "print(classification_report(y_test, y_pred_test, target_names=target_names))"
      ]
    },
    {
      "cell_type": "markdown",
      "metadata": {},
      "source": [
        "### F1 Score"
      ]
    },
    {
      "cell_type": "code",
      "execution_count": 16,
      "metadata": {},
      "outputs": [
        {
          "name": "stdout",
          "output_type": "stream",
          "text": [
            "Accuracy: 0.8039036116993875\n",
            "Precision: 0.8134329457878373\n",
            "Recall: 0.9814561294337274\n",
            "Specificity: 0.07170613681354938\n",
            "F1 Score: 0.889580043188191\n"
          ]
        }
      ],
      "source": [
        "TN, FP, FN, TP = cm.ravel()\n",
        "\n",
        "# Calculate Accuracy\n",
        "# (TP+TN)/total sample\n",
        "accuracy = accuracy_score(y_test, y_pred_test)\n",
        "print(\"Accuracy:\", accuracy)\n",
        "\n",
        "# Calculate Precision\n",
        "# TP/(TP+FP)\n",
        "# Precision is a measure of the accuracy of positive predictions made by the model. It answers the question: \"Of all the instances predicted as positive, how many were actually positive?\"\n",
        "precision = precision_score(y_test, y_pred_test)\n",
        "print(\"Precision:\", precision)\n",
        "\n",
        "# Calculate Recall\n",
        "# TP/(TP+FN)\n",
        "# Recall measures the model's ability to identify all the positive instances correctly. It answers the question: \"Of all the actual positive instances, how many were correctly predicted?\"\n",
        "recall = recall_score(y_test, y_pred_test)\n",
        "print(\"Recall:\", recall)\n",
        "\n",
        "# Calculate Specificity\n",
        "# TN/(TN+FN)\n",
        "# specificity measures the model's ability to identify negative instances correctly. It answers the question: \"Of all the actual negative instances, how many were correctly predicted?\"\n",
        "specificity = TN / (TN + FP)\n",
        "print(\"Specificity:\", specificity)\n",
        "\n",
        "# Calculate F1 Score\n",
        "# (2*Precision*Recall)/(Precision+Recall)\n",
        "f1 = f1_score(y_test, y_pred_test)\n",
        "print(\"F1 Score:\", f1)"
      ]
    },
    {
      "cell_type": "code",
      "execution_count": 21,
      "metadata": {},
      "outputs": [
        {
          "name": "stdout",
          "output_type": "stream",
          "text": [
            "AUC Score: 0.6923905474639023\n"
          ]
        },
        {
          "data": {
            "image/png": "[encoded data removed]",
            "text/plain": [
              "<Figure size 800x800 with 1 Axes>"
            ]
          },
          "metadata": {},
          "output_type": "display_data"
        }
      ],
      "source": [
        "# Assuming you have the predicted probabilities for the positive class\n",
        "y_prob_test = clf.predict_proba(X_test)[:, 1]\n",
        "\n",
        "# Calculate AUC score\n",
        "auc_score = roc_auc_score(y_test, y_prob_test)\n",
        "print(\"AUC Score:\", auc_score)\n",
        "\n",
        "# Plot the ROC curve\n",
        "fpr, tpr, thresholds = roc_curve(y_test, y_prob_test)\n",
        "\n",
        "plt.figure(figsize=(8, 8))\n",
        "plt.plot(fpr, tpr, label=f'AUC = {auc_score:.2f}')\n",
        "plt.plot([0, 1], [0, 1], linestyle='--', color='gray', label='Random')\n",
        "plt.title('Receiver Operating Characteristic (ROC) Curve')\n",
        "plt.xlabel('False Positive Rate (FPR)')\n",
        "plt.ylabel('True Positive Rate (TPR)')\n",
        "plt.legend()\n",
        "plt.show()\n",
        "\n",
        "# is 69 auc score good what does it mean, what can i do to increase it?"
      ]
    },
    {
      "cell_type": "markdown",
      "metadata": {},
      "source": [
        "## Conclusion???"
      ]
    },
    {
      "cell_type": "code",
      "execution_count": 98,
      "metadata": {},
      "outputs": [],
      "source": [
        "# Confusion Matrix BOTH OVER AND UNDER\n",
        "# [[ 2836  3944]\n",
        "#  [ 5103 23059]]\n",
        "#              precision    recall  f1-score   support\n",
        "\n",
        "#  Charged Off       0.36      0.43      0.39      6780\n",
        "#   Fully Paid       0.85      0.81      0.83     28162\n",
        "\n",
        "#     accuracy                           0.74     34942\n",
        "#    macro avg       0.61      0.62      0.61     34942\n",
        "# weighted avg       0.76      0.74      0.75     34942\n",
        "\n",
        "# Accuracy: 0.7390819071604373\n",
        "# Precision: 0.8548537357928079\n",
        "# Recall: 0.8145728286343299\n",
        "# Specificity: 0.42551622418879054\n",
        "# F1 Score: 0.8342273214902631\n",
        "\n",
        "# -----------------------------------------------------------\n",
        "\n",
        "# Confusion Matrix OVERSAMPLING ONLY\n",
        "#  [[ 1150  5630]\n",
        "#  [ 1443 26719]]\n",
        "#               precision    recall  f1-score   support\n",
        "#  Charged Off       0.44      0.17      0.25      6780\n",
        "#   Fully Paid       0.83      0.95      0.88     28162\n",
        "#     accuracy                           0.80     34942\n",
        "#    macro avg       0.63      0.56      0.56     34942\n",
        "# weighted avg       0.75      0.80      0.76     34942\n",
        "\n",
        "# Accuracy: 0.7975788449430484\n",
        "# Precision: 0.8259606170206188\n",
        "# Recall: 0.9487607414246148\n",
        "# Specificity: 0.1696165191740413\n",
        "# F1 Score: 0.8831121614251956\n",
        "\n",
        "# Determining the better confusion matrix for loan approval depends on your priorities and the costs associated with different types of errors.\n",
        "\n",
        "# Here's a breakdown of key metrics and considerations for each matrix:\n",
        "\n",
        "# Matrix PT:\n",
        "\n",
        "# Accuracy: 74%\n",
        "# Precision (Charged Off): 35%\n",
        "# Recall (Charged Off): 38%\n",
        "# F1-score (Charged Off): 36%\n",
        "# Strengths: Better at identifying charged-off loans (higher recall), potentially reducing losses from defaults.\n",
        "# Weaknesses: Lower overall accuracy and precision, potentially leading to missed opportunities for good loans.\n",
        "# Matrix ALP:\n",
        "\n",
        "# Accuracy: 80%\n",
        "# Precision (Charged Off): 44%\n",
        "# Recall (Charged Off): 17%\n",
        "# F1-score (Charged Off): 25%\n",
        "# Strengths: Higher overall accuracy, approves more loans, and potentially increases profits.\n",
        "# Weaknesses: Misses more charged-off loans (lower recall), potentially increasing losses from defaults.\n",
        "# Considerations:\n",
        "\n",
        "# Cost of False Negatives (Charged Off): If approving a charged-off loan is very costly, prioritize recall and lean towards PT.\n",
        "# Cost of False Positives (Fully Paid): If denying a fully paid loan incurs significant opportunity costs, prioritize precision and lean towards ALP.\n",
        "# Risk Tolerance: If risk tolerance is low, ALP might be preferred due to higher overall accuracy.\n",
        "# Business Objectives: Balance profit goals with credit risk management.\n",
        "# Additional Insights:\n",
        "\n",
        "# F1-score: Consider this as a balanced measure of precision and recall, especially for the \"Charged Off\" class.\n",
        "# Cost-Sensitive Analysis: Assign specific costs to each type of error to make a more informed decision.\n",
        "# Explore Alternative Models: Investigate other models that might achieve a better balance between accuracy, precision, and recall for your specific needs.\n",
        "# Ultimately, the best choice depends on your specific business context and risk tolerance."
      ]
    }
  ],
  "metadata": {
    "colab": {
      "provenance": [],
      "toc_visible": true
    },
    "kernelspec": {
      "display_name": "Python 3",
      "name": "python3"
    },
    "language_info": {
      "codemirror_mode": {
        "name": "ipython",
        "version": 3
      },
      "file_extension": ".py",
      "mimetype": "text/x-python",
      "name": "python",
      "nbconvert_exporter": "python",
      "pygments_lexer": "ipython3",
      "version": "3.11.4"
    }
  },
  "nbformat": 4,
  "nbformat_minor": 0
}
